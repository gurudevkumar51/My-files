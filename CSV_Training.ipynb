{
  "nbformat": 4,
  "nbformat_minor": 0,
  "metadata": {
    "colab": {
      "provenance": [],
      "include_colab_link": true
    },
    "kernelspec": {
      "name": "python3",
      "display_name": "Python 3"
    },
    "language_info": {
      "name": "python"
    }
  },
  "cells": [
    {
      "cell_type": "markdown",
      "metadata": {
        "id": "view-in-github",
        "colab_type": "text"
      },
      "source": [
        "<a href=\"https://colab.research.google.com/github/gurudevkumar51/My-files/blob/master/CSV_Training.ipynb\" target=\"_parent\"><img src=\"https://colab.research.google.com/assets/colab-badge.svg\" alt=\"Open In Colab\"/></a>"
      ]
    },
    {
      "cell_type": "code",
      "source": [
        "import pandas as pd\n",
        "import csv\n",
        "import sqlalchemy"
      ],
      "metadata": {
        "id": "LXDL9Ygdi_Sn"
      },
      "execution_count": null,
      "outputs": []
    },
    {
      "cell_type": "code",
      "source": [
        "header = []\n",
        "data = []\n",
        "with open('/invoice_sheet_aug1_techprofusecom.csv', newline='') as f:\n",
        "  reader = csv.reader(f)\n",
        "  c = 0\n",
        "  for row in reader:\n",
        "    if len(row) >=3:\n",
        "      c=c+1\n",
        "      if c == 1:\n",
        "        header = row\n",
        "      else:\n",
        "        data.append(row)\n",
        "df_data = pd.DataFrame(data, columns = header)\n",
        "df_data.drop(df_data.index[-1], inplace=True)\n",
        "df_meta_data = pd.read_csv(\"/invoice_sheet_aug1_techprofusecom.csv\", delimiter=\",\", on_bad_lines='skip', header=None)\n",
        "for x in df_meta_data.values:\n",
        "  df_data[x[0]]=x[1]"
      ],
      "metadata": {
        "id": "gNuZPVWijJqQ"
      },
      "execution_count": null,
      "outputs": []
    },
    {
      "cell_type": "code",
      "source": [
        "database_username = '******'\n",
        "database_password = '******'\n",
        "database_ip       = '******'\n",
        "database_name     = '******'\n",
        "database_connection = sqlalchemy.create_engine('mysql+mysqlconnector://{0}:{1}@{2}/{3}'.\n",
        "                                               format(database_username, database_password,\n",
        "                                                      database_ip, database_name))\n",
        "df_data.to_sql(con=database_connection, name='GOOGLE_INVOICE', if_exists='replace')"
      ],
      "metadata": {
        "id": "boMNPd1JjHrR"
      },
      "execution_count": null,
      "outputs": []
    }
  ]
}